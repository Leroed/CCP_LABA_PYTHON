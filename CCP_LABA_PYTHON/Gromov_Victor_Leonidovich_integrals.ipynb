{
 "cells": [
  {
   "cell_type": "code",
   "execution_count": 18,
   "metadata": {},
   "outputs": [],
   "source": [
    "import numpy as np\n",
    "import heapq\n",
    "import matplotlib.pyplot as plt\n",
    "\n",
    "%matplotlib inline\n"
   ]
  },
  {
   "cell_type": "code",
   "execution_count": 30,
   "metadata": {},
   "outputs": [],
   "source": [
    "# A rectangle is (start, width)\n",
    "# A list element is (-weight, (start, width))\n",
    "\n",
    "def make_rect(a, b, f):\n",
    "    \"\"\"Make a rectangle for the interval [a, b]\"\"\"\n",
    "    rect = (a, b-a)\n",
    "    xm = a + rect[1] / 2.\n",
    "    return (f(xm) * rect[1], rect)\n",
    "    \n",
    "\n",
    "def get_max_elem(lst, key = lambda x: -x[0]):\n",
    "    \"\"\"Find and remove the maximum element from the list.\n",
    "    \n",
    "    Find the max element (according to the parameter `key`, which is a callable),\n",
    "    remove it from the list, and return both the element and the rest.\n",
    "    \"\"\"\n",
    "    if key is None:\n",
    "        # use the identity function\n",
    "        key = lambda x: x\n",
    "    \n",
    "    # find the max element\n",
    "    elem = max(lst, key=key)\n",
    "    \n",
    "    # find its position in the list\n",
    "    idx = lst.index(elem)\n",
    "    \n",
    "    return elem, lst[:idx] + lst[idx+1:]\n",
    "\n",
    "    \n",
    "def adapt_rect_list(f, a, b, funcGetMax, npts):\n",
    "    \"\"\"Integrate f(x) from a to b using npts steps of the adaptive algorithm.\n",
    "    \"\"\"\n",
    "    lst = []\n",
    "\n",
    "    # start from a single rectangle\n",
    "    item = make_rect(a, b, f)\n",
    "    lst.append(item)\n",
    "    \n",
    "    # loop\n",
    "    for _ in range(npts):\n",
    "        # get the largest one\n",
    "        rect, lst = funcGetMax(lst)\n",
    "        w, (start, width) = rect\n",
    "                \n",
    "        # and split it into two halves\n",
    "        c = start + width / 2.\n",
    "        \n",
    "        rect1 = make_rect(start, c, f)\n",
    "        rect2 = make_rect(c, start + width, f)\n",
    "        \n",
    "        lst.append(rect1)\n",
    "        lst.append(rect2)\n",
    "        \n",
    "    # collect the answer\n",
    "    return -sum(w for w, r in lst), lst"
   ]
  },
  {
   "cell_type": "code",
   "execution_count": 37,
   "metadata": {},
   "outputs": [],
   "source": [
    "def get_max_element_heapq(lst):\n",
    "    heapq.heapify(lst)\n",
    "    \n",
    "    return lst[-1], lst[:-1]\n",
    "\n",
    "def crect(f, a, b, npts):\n",
    "    h = (b - a) / npts\n",
    "    summ = 0\n",
    "    for j in range(npts):\n",
    "        x = a + h*(j + 0.5)\n",
    "        summ += f(x)\n",
    "    return summ * h\n",
    "\n",
    "def f(x):\n",
    "    \n",
    "    return (np.exp(-x))\n",
    "\n",
    "def getExact(f,a, b):\n",
    "    return (-f(b)+f(a))\n",
    "\n",
    "def exact(a, b):\n",
    "    \"\"\"Define the exact value of integral\"\"\"\n",
    "    return (-np.exp(-b)+np.exp(-a))\n",
    "    #return (-np.exp(-b)*(b+1)-(-np.exp(-a)*(a+1)))"
   ]
  },
  {
   "cell_type": "code",
   "execution_count": 38,
   "metadata": {},
   "outputs": [
    {
     "name": "stdout",
     "output_type": "stream",
     "text": [
      "   10 : 1.24875\n",
      "  100 : 1.24999\n",
      " 1000 : 1.25\n",
      "10000 : 1.25\n"
     ]
    }
   ],
   "source": [
    "for n in (10, 100, 1000, 10000):\n",
    "    print(\"%5.5g : %g\" % (n, crect(lambda x: x**3, 0, 1, n) - getExact(lambda x: x**3,0, 1) ))"
   ]
  },
  {
   "cell_type": "code",
   "execution_count": 40,
   "metadata": {},
   "outputs": [
    {
     "name": "stdout",
     "output_type": "stream",
     "text": [
      "n, res =  5 -0.7921436846593407\n",
      "n, res =  25 -0.9903744105507674\n",
      "n, res =  125 -0.9995254841578629\n",
      "n, res =  250 -0.9997636401049373\n",
      "n, res =  500 -0.9998166847139779\n",
      "n, res =  1000 -0.9998277637078664\n",
      "n, res =  5000 -0.9998400734567691\n"
     ]
    }
   ],
   "source": [
    "a, b = 0, 20\n",
    "\n",
    "for n in (5, 25, 125, 250, 500, 1000, 5000):\n",
    "    res, lst = adapt_rect_list(f, a, b, get_max_element_heapq, n)\n",
    "    print ('n, res = ', n, res)"
   ]
  },
  {
   "cell_type": "code",
   "execution_count": 42,
   "metadata": {},
   "outputs": [
    {
     "name": "stdout",
     "output_type": "stream",
     "text": [
      "100 ms ± 4.03 ms per loop (mean ± std. dev. of 7 runs, 10 loops each)\n"
     ]
    }
   ],
   "source": [
    "%timeit adapt_rect_list(f, a, b, get_max_element_heapq, npts=1000)"
   ]
  },
  {
   "cell_type": "code",
   "execution_count": 70,
   "metadata": {},
   "outputs": [
    {
     "data": {
      "text/plain": [
       "<matplotlib.legend.Legend at 0x2580964ff60>"
      ]
     },
     "execution_count": 70,
     "metadata": {},
     "output_type": "execute_result"
    },
    {
     "data": {
      "image/png": "[encoded data removed]",
      "text/plain": [
       "<matplotlib.figure.Figure at 0x25809668278>"
      ]
     },
     "metadata": {},
     "output_type": "display_data"
    }
   ],
   "source": [
    "res1 = []\n",
    "res2 = []\n",
    "\n",
    "a, b = 0, 20\n",
    "npts = [i*5 for i in range(1,15)]\n",
    "for n in npts:\n",
    "    res1.append(abs(abs(crect(f,a,b,n))-getExact(f,a,b)))\n",
    "    res2.append(abs(abs(adapt_rect_list(f, a, b, get_max_element_heapq, n)[0])-getExact(f,a,b)))\n",
    "   \n",
    "\n",
    "plt.plot(npts,res1,label = 'Central without adaptive')\n",
    "plt.plot(npts,res2,label = 'Adaptive algorithm')\n",
    "\n",
    "\n",
    "plt.xlabel('n')\n",
    "plt.ylabel('error')\n",
    "plt.legend()\n"
   ]
  },
  {
   "cell_type": "code",
   "execution_count": null,
   "metadata": {},
   "outputs": [],
   "source": []
  }
 ],
 "metadata": {
  "kernelspec": {
   "display_name": "Python 3",
   "language": "python",
   "name": "python3"
  },
  "language_info": {
   "codemirror_mode": {
    "name": "ipython",
    "version": 3
   },
   "file_extension": ".py",
   "mimetype": "text/x-python",
   "name": "python",
   "nbconvert_exporter": "python",
   "pygments_lexer": "ipython3",
   "version": "3.6.4"
  }
 },
 "nbformat": 4,
 "nbformat_minor": 2
}
