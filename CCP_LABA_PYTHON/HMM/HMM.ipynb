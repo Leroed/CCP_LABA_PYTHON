{
 "cells": [
  {
   "cell_type": "code",
   "execution_count": 4,
   "metadata": {},
   "outputs": [],
   "source": [
    "import numpy as np\n",
    "from pprint import pprint"
   ]
  },
  {
   "cell_type": "code",
   "execution_count": 5,
   "metadata": {},
   "outputs": [
    {
     "data": {
      "text/html": [
       "<h1 style = 'text-align:center;'>Program HMM<h1>\n",
       "<h2>&#10004 Read <em>transition</em> (M&#215M) and <em>emission</em> (M&#215K) matrices and beginning distribution\n",
       "(vector of length M) from a file (tab separated format).</h2>"
      ],
      "text/plain": [
       "<IPython.core.display.HTML object>"
      ]
     },
     "metadata": {},
     "output_type": "display_data"
    }
   ],
   "source": [
    "%%html\n",
    "<h1 style = 'text-align:center;'>Program HMM<h1>\n",
    "<h2>&#10004 Read <em>transition</em> (M&#215M) and <em>emission</em> (M&#215K) matrices and beginning distribution\n",
    "(vector of length M) from a file (tab separated format).</h2>"
   ]
  },
  {
   "cell_type": "code",
   "execution_count": 13,
   "metadata": {},
   "outputs": [
    {
     "name": "stdout",
     "output_type": "stream",
     "text": [
      "A: [[0.95 0.05]\n",
      " [0.1  0.9 ]] \n",
      "B: [[0.16666667 0.16666667 0.16666667 0.16666667 0.16666667 0.16666667]\n",
      " [0.1        0.1        0.1        0.1        0.1        0.5       ]]\n"
     ]
    }
   ],
   "source": [
    "#transition (M×M)\n",
    "A = np.loadtxt(\"matrixA\")\n",
    "#emission (M×K) \n",
    "B = np.loadtxt(\"matrixB\")\n",
    "print(\"A:\",A,\"\\nB:\",B)"
   ]
  },
  {
   "cell_type": "code",
   "execution_count": 14,
   "metadata": {},
   "outputs": [
    {
     "data": {
      "text/html": [
       "<h2>&#10004 HMM random generator: generate a sequence x of length L given the model parameters. Output x and π in a tab-separated format.<h2>"
      ],
      "text/plain": [
       "<IPython.core.display.HTML object>"
      ]
     },
     "metadata": {},
     "output_type": "display_data"
    }
   ],
   "source": [
    "%%html\n",
    "<h2>&#10004 HMM random generator: generate a sequence x of length L given the model parameters. Output x and π in a tab-separated format.<h2>"
   ]
  },
  {
   "cell_type": "code",
   "execution_count": 72,
   "metadata": {},
   "outputs": [],
   "source": [
    "def HMMGenerator(L,B,pi='random'):\n",
    "    x = np.random.randint(B.shape[1], size=L)\n",
    "    xSymbol = np.array(['e'+str(item) for item in x])\n",
    "    if pi=='random':\n",
    "        pi = np.random.dirichlet(np.ones(B.shape[0]),size=1)[0]\n",
    "    print(\"x:\",xSymbol,\"\\npi:\",pi)\n",
    "    return {'x':x,'xSymbol':xSymbol,'pi':pi}\n",
    "\n",
    "class HiddenMarkovChain(object):\n",
    "    def __init__(self, A, B, pi, states, observations):\n",
    "        self.A = A\n",
    "        self.B = B\n",
    "        self.pi = pi\n",
    "        self.states = states\n",
    "        self.observations = observations\n",
    " \n",
    "    def next_state(self, current_state):\n",
    "        pStates = self.A[self.states.index(current_state)]\n",
    "        stateNext = np.random.choice(\n",
    "            self.states, \n",
    "            p = pStates\n",
    "        )\n",
    "        pObservations = self.B[self.states.index(stateNext)]\n",
    "        observationNext = np.random.choice(\n",
    "            self.observations, \n",
    "            p = pObservations\n",
    "        )\n",
    "        return {'state': stateNext,'observation': observationNext}\n",
    " \n",
    "    def generate_states(self, current_state, no=10):\n",
    "        pPi = self.pi\n",
    "        firstState = np.random.choice(\n",
    "            self.states, \n",
    "            p = pPi\n",
    "        )\n",
    "        current_state = firstState\n",
    "        future_states = []\n",
    "        future_observations = []\n",
    "        for i in range(no):\n",
    "            nextObject = self.next_state(current_state)\n",
    "            next_state = nextObject['state']\n",
    "            next_observation = nextObject['observation']\n",
    "            future_states.append(next_state)\n",
    "            future_observations.append(next_observation)\n",
    "            current_state = next_state\n",
    "        return future_states,future_observations"
   ]
  },
  {
   "cell_type": "code",
   "execution_count": 94,
   "metadata": {
    "scrolled": true
   },
   "outputs": [
    {
     "name": "stdout",
     "output_type": "stream",
     "text": [
      "states: ('p0', 'p1') \n",
      "observations: ('e0', 'e1', 'e2', 'e3', 'e4', 'e5') \n",
      "x: [0, 1, 3, 2, 5, 5, 5, 1, 5, 5, 5, 4, 2, 0, 3, 4, 4, 0, 5, 2] \n",
      "xSymbol: ['e0', 'e1', 'e3', 'e2', 'e5', 'e5', 'e5', 'e1', 'e5', 'e5', 'e5', 'e4', 'e2', 'e0', 'e3', 'e4', 'e4', 'e0', 'e5', 'e2'] \n",
      "pathStates: ['p1', 'p1', 'p1', 'p1', 'p1', 'p1', 'p1', 'p1', 'p1', 'p1', 'p1', 'p0', 'p0', 'p0', 'p0', 'p0', 'p0', 'p0', 'p0', 'p0']\n"
     ]
    }
   ],
   "source": [
    "#HMMObject = HMMGenerator(12,B)\n",
    "states = tuple([ 'p' + str(i) for i in range(B.shape[0])])\n",
    "observations = tuple([ 'e' + str(i) for i in range(B.shape[1])])\n",
    "pi = [0.5,0.5]\n",
    "hiddenModal = HiddenMarkovChain(A,B,pi,states,observations)\n",
    "HMMObject = hiddenModal.generate_states('p0',no=20)\n",
    "x = [int(item[1:]) for item in HMMObject[1]]\n",
    "xSymbol = HMMObject[1]\n",
    "pathStates = HMMObject[0]\n",
    "#x, xSymbol, pi = HMMObject['x'], HMMObject['xSymbol'], HMMObject['pi']\n",
    "\n",
    "print(\"states:\",states,\"\\nobservations:\",observations,\"\\nx:\", x,\"\\nxSymbol:\",xSymbol,\"\\npathStates:\",pathStates)"
   ]
  },
  {
   "cell_type": "code",
   "execution_count": 82,
   "metadata": {},
   "outputs": [
    {
     "data": {
      "text/html": [
       "<h2>&#10004 Read HMM parameters and observed sequence x. Use Viterbi algorithm to find the most probable path π given x and HMM parameters. Output the path in the tab separated format.<h2>"
      ],
      "text/plain": [
       "<IPython.core.display.HTML object>"
      ]
     },
     "metadata": {},
     "output_type": "display_data"
    }
   ],
   "source": [
    "%%html\n",
    "<h2>&#10004 Read HMM parameters and observed sequence x. Use Viterbi algorithm to find the most probable path π given x and HMM parameters. Output the path in the tab separated format.<h2>"
   ]
  },
  {
   "cell_type": "code",
   "execution_count": 97,
   "metadata": {},
   "outputs": [],
   "source": [
    "def viterbi(obs_seq,pi, A, B):\n",
    "    T = len(obs_seq)\n",
    "    N = A.shape[0]\n",
    "    delta = np.zeros((T, N))\n",
    "    psi = np.zeros((T, N))\n",
    "    delta[0] = pi*B[:,obs_seq[0]]\n",
    "    for t in range(1, T):\n",
    "        for j in range(N):\n",
    "            delta[t,j] = np.max(delta[t-1]*A[:,j]) * B[j, obs_seq[t]]\n",
    "            psi[t,j] = np.argmax(delta[t-1]*A[:,j])\n",
    "\n",
    "    states = np.zeros(T, dtype=np.int32)\n",
    "    states[T-1] = np.argmax(delta[T-1])\n",
    "    for t in range(T-2, -1, -1):\n",
    "        states[t] = psi[t+1, states[t+1]]\n",
    "    return states"
   ]
  },
  {
   "cell_type": "code",
   "execution_count": 98,
   "metadata": {},
   "outputs": [
    {
     "name": "stdout",
     "output_type": "stream",
     "text": [
      "x: ['e4', 'e1', 'e1', 'e0', 'e5', 'e5', 'e5', 'e1', 'e1', 'e2', 'e2', 'e3', 'e4', 'e1', 'e3', 'e5', 'e4', 'e1', 'e3', 'e5']\n",
      "path: ['p0', 'p0', 'p0', 'p0', 'p0', 'p0', 'p0', 'p0', 'p0', 'p0', 'p0', 'p0', 'p0', 'p0', 'p0', 'p0', 'p0', 'p0', 'p0', 'p0']\n"
     ]
    }
   ],
   "source": [
    "path = viterbi(x, pi, A, B)\n",
    "print(\"x:\", list(map(lambda y: observations[y], x)))\n",
    "print(\"path:\",  list(map(lambda s: states[s], path)))"
   ]
  },
  {
   "cell_type": "code",
   "execution_count": 99,
   "metadata": {},
   "outputs": [
    {
     "data": {
      "text/html": [
       "<h2>&#10004 Find the probability P(x) using forward algorithm (store the full matrix of forward probabilities fk(xi) in order to use it for posterior decoding later on).<h2>\n"
      ],
      "text/plain": [
       "<IPython.core.display.HTML object>"
      ]
     },
     "metadata": {},
     "output_type": "display_data"
    }
   ],
   "source": [
    "%%html\n",
    "<h2>&#10004 Find the probability P(x) using forward algorithm (store the full matrix of forward probabilities fk(xi) in order to use it for posterior decoding later on).<h2>\n",
    "\n"
   ]
  },
  {
   "cell_type": "code",
   "execution_count": 100,
   "metadata": {},
   "outputs": [],
   "source": [
    "def forward(obs_seq, pi, A, B):\n",
    "    T = len(obs_seq)\n",
    "    N = A.shape[0]\n",
    "    alpha = np.zeros((T, N))\n",
    "    alpha[0] = pi*B[:,obs_seq[0]]\n",
    "    for t in range(1, T):\n",
    "        alpha[t] = np.inner(alpha[t-1],A) * B[:, obs_seq[t]]\n",
    "    return alpha\n",
    "\n",
    "def likelihood(alpha):\n",
    "    return  alpha[-1].sum()  "
   ]
  },
  {
   "cell_type": "code",
   "execution_count": 101,
   "metadata": {},
   "outputs": [
    {
     "name": "stdout",
     "output_type": "stream",
     "text": [
      "forwardRes: [[8.33333333e-02 5.00000000e-02]\n",
      " [1.36111111e-02 5.33333333e-03]\n",
      " [2.19953704e-03 6.16111111e-04]\n",
      " [3.53394290e-04 7.74453704e-05]\n",
      " [5.65994740e-05 5.25201312e-05]\n",
      " [9.39925115e-06 2.64640327e-05]\n",
      " [1.70874837e-06 1.23787773e-05]\n",
      " [3.73708303e-07 1.13117744e-06]\n",
      " [6.85969599e-08 1.05543053e-07]\n",
      " [1.17407108e-08 1.01848443e-08]\n",
      " [1.94381957e-09 1.03404310e-09]\n",
      " [3.16388458e-10 1.12502074e-10]\n",
      " [5.10323565e-11 1.32890713e-11]\n",
      " [8.19086537e-12 1.70633998e-12]\n",
      " [1.31110652e-12 2.35479252e-13]\n",
      " [2.09554192e-13 1.71520989e-13]\n",
      " [3.46087554e-14 1.75324310e-14]\n",
      " [5.62582319e-15 1.92400634e-15]\n",
      " [9.06788725e-16 2.29418803e-16]\n",
      " [1.45486705e-16 1.48577897e-16]]\n",
      "P: 2.940646021471975e-16\n"
     ]
    }
   ],
   "source": [
    "forwardMatrix = forward(x, pi, A, B)\n",
    "print(\"forwardRes:\",forwardMatrix)\n",
    "P = likelihood(forwardMatrix)\n",
    "print(\"P:\",P)"
   ]
  },
  {
   "cell_type": "code",
   "execution_count": 102,
   "metadata": {},
   "outputs": [
    {
     "data": {
      "text/html": [
       "<h2>&#10004 Program the backward algorithm.<h2>"
      ],
      "text/plain": [
       "<IPython.core.display.HTML object>"
      ]
     },
     "metadata": {},
     "output_type": "display_data"
    }
   ],
   "source": [
    "%%html\n",
    "<h2>&#10004 Program the backward algorithm.<h2>"
   ]
  },
  {
   "cell_type": "code",
   "execution_count": 103,
   "metadata": {},
   "outputs": [],
   "source": [
    "def backward(obs_seq, A, B):\n",
    "    N = A.shape[0]\n",
    "    T = len(obs_seq)\n",
    "\n",
    "    beta = np.zeros((N,T))\n",
    "    beta[:,-1:] = 1\n",
    "\n",
    "    for t in reversed(range(T-1)):\n",
    "        for n in range(N):\n",
    "            beta[n,t] = np.sum(beta[:,t+1] * A[n,:] * B[:, obs_seq[t+1]])\n",
    "\n",
    "    return beta"
   ]
  },
  {
   "cell_type": "code",
   "execution_count": 104,
   "metadata": {},
   "outputs": [
    {
     "name": "stdout",
     "output_type": "stream",
     "text": [
      "backwardMatrix [[2.11040075e-15 1.75635696e-15]\n",
      " [1.27873612e-14 1.71470475e-14]\n",
      " [7.51854541e-14 1.76599518e-13]\n",
      " [4.15319526e-13 1.88530584e-12]\n",
      " [1.97309845e-12 4.11649082e-12]\n",
      " [1.10820993e-11 8.73730925e-12]\n",
      " [6.73201687e-11 1.69229032e-11]\n",
      " [4.21708283e-10 1.09938131e-10]\n",
      " [2.64028622e-09 7.32592899e-10]\n",
      " [1.65150208e-08 5.08158390e-09]\n",
      " [1.03125456e-07 3.73647367e-08]\n",
      " [6.41962400e-07 2.96281815e-07]\n",
      " [3.97377931e-06 2.55613511e-06]\n",
      " [2.43430209e-05 2.38935344e-05]\n",
      " [1.46216768e-04 2.38406537e-04]\n",
      " [8.44763040e-04 4.98504784e-04]\n",
      " [5.19078704e-03 4.57768519e-03]\n",
      " [3.13611111e-02 4.50555556e-02]\n",
      " [1.83333333e-01 4.66666667e-01]\n",
      " [1.00000000e+00 1.00000000e+00]]\n"
     ]
    }
   ],
   "source": [
    "backwardMatrix=backward(x, A, B)\n",
    "print(\"backwardMatrix\",backwardMatrix.T)"
   ]
  },
  {
   "cell_type": "code",
   "execution_count": 105,
   "metadata": {},
   "outputs": [
    {
     "data": {
      "text/html": [
       "<h2>&#10004 Program posterior decoding.<h2>"
      ],
      "text/plain": [
       "<IPython.core.display.HTML object>"
      ]
     },
     "metadata": {},
     "output_type": "display_data"
    }
   ],
   "source": [
    "%%html\n",
    "<h2>&#10004 Program posterior decoding.<h2>\n"
   ]
  },
  {
   "cell_type": "code",
   "execution_count": 106,
   "metadata": {},
   "outputs": [],
   "source": [
    "def posterior(forwardMatrix, backwardMatrix):\n",
    "    obs_prob = likelihood(forwardMatrix)\n",
    "    return (np.multiply(forwardMatrix,backwardMatrix.T) / obs_prob)\n"
   ]
  },
  {
   "cell_type": "code",
   "execution_count": 107,
   "metadata": {},
   "outputs": [
    {
     "name": "stdout",
     "output_type": "stream",
     "text": [
      "posteriorMatrix: [[0.59805474 0.29863454]\n",
      " [0.5918774  0.31098922]\n",
      " [0.56237027 0.37000348]\n",
      " [0.49911328 0.49651746]\n",
      " [0.37976803 0.73520796]\n",
      " [0.35421956 0.7863049 ]\n",
      " [0.39118353 0.71237697]\n",
      " [0.53592267 0.42289869]\n",
      " [0.61590415 0.26293573]\n",
      " [0.6593724  0.17599922]\n",
      " [0.68167769 0.13138864]\n",
      " [0.69069685 0.11335033]\n",
      " [0.68961487 0.11551428]\n",
      " [0.67804967 0.13864468]\n",
      " [0.65191715 0.19090973]\n",
      " [0.60198893 0.29076616]\n",
      " [0.61090889 0.27292625]\n",
      " [0.59997723 0.29478956]\n",
      " [0.5653336  0.36407683]\n",
      " [0.49474402 0.50525598]]\n"
     ]
    }
   ],
   "source": [
    "posteriorMatrix = posterior(forwardMatrix, backwardMatrix)\n",
    "print(\"posteriorMatrix:\",posteriorMatrix)"
   ]
  },
  {
   "cell_type": "code",
   "execution_count": 108,
   "metadata": {},
   "outputs": [
    {
     "data": {
      "text/html": [
       "<h1>Using the previous results, build the HMM for the unfair casino.<h1>"
      ],
      "text/plain": [
       "<IPython.core.display.HTML object>"
      ]
     },
     "metadata": {},
     "output_type": "display_data"
    }
   ],
   "source": [
    "%%html\n",
    "<h1>Using the previous results, build the HMM for the unfair casino.<h1>\n"
   ]
  },
  {
   "cell_type": "code",
   "execution_count": 109,
   "metadata": {},
   "outputs": [
    {
     "data": {
      "text/html": [
       "<h2>&#10004 Simulate occasionally unfair casino: one dice has equal probabilities of each face\n",
       "and another dice has probability of P(6) = 0.5, other outcomes’ probabilities are\n",
       "0.1. The probability to switch from the fair dice to the loaded dice is 0.05, the\n",
       "probability to switch from the loaded to the fair dice is 0.1.<h2>"
      ],
      "text/plain": [
       "<IPython.core.display.HTML object>"
      ]
     },
     "metadata": {},
     "output_type": "display_data"
    }
   ],
   "source": [
    "%%html\n",
    "<h2>&#10004 Simulate occasionally unfair casino: one dice has equal probabilities of each face\n",
    "and another dice has probability of P(6) = 0.5, other outcomes’ probabilities are\n",
    "0.1. The probability to switch from the fair dice to the loaded dice is 0.05, the\n",
    "probability to switch from the loaded to the fair dice is 0.1.<h2>\n"
   ]
  },
  {
   "cell_type": "code",
   "execution_count": 110,
   "metadata": {},
   "outputs": [
    {
     "name": "stdout",
     "output_type": "stream",
     "text": [
      "A: [[0.95 0.05]\n",
      " [0.1  0.9 ]] \n",
      "B: [[0.16666667 0.16666667 0.16666667 0.16666667 0.16666667 0.16666667]\n",
      " [0.1        0.1        0.1        0.1        0.1        0.5       ]]\n"
     ]
    }
   ],
   "source": [
    "#transition (M×M)\n",
    "A = np.loadtxt(\"matrixA\")\n",
    "#emission (M×K) \n",
    "B = np.loadtxt(\"matrixB\")\n",
    "print(\"A:\",A,\"\\nB:\",B)\n"
   ]
  },
  {
   "cell_type": "code",
   "execution_count": 125,
   "metadata": {},
   "outputs": [
    {
     "data": {
      "text/html": [
       "<h2>&#10004Compare the simulated path and Viterbi most likely path.\n",
       "<h2>"
      ],
      "text/plain": [
       "<IPython.core.display.HTML object>"
      ]
     },
     "metadata": {},
     "output_type": "display_data"
    }
   ],
   "source": [
    "%%html\n",
    "<h2>&#10004Compare the simulated path and Viterbi most likely path.\n",
    "<h2>\n"
   ]
  },
  {
   "cell_type": "code",
   "execution_count": 119,
   "metadata": {},
   "outputs": [
    {
     "name": "stdout",
     "output_type": "stream",
     "text": [
      "states: ('p0', 'p1') \n",
      "observations: ('e0', 'e1', 'e2', 'e3', 'e4', 'e5') \n",
      "x: [1, 2, 5, 4, 5, 0, 5, 5, 4, 5, 4, 5, 2, 2, 3, 3, 5, 0, 5, 5, 4, 5, 4, 2, 4, 1, 2, 3, 2, 5] \n",
      "xSymbol: ['e1', 'e2', 'e5', 'e4', 'e5', 'e0', 'e5', 'e5', 'e4', 'e5', 'e4', 'e5', 'e2', 'e2', 'e3', 'e3', 'e5', 'e0', 'e5', 'e5', 'e4', 'e5', 'e4', 'e2', 'e4', 'e1', 'e2', 'e3', 'e2', 'e5'] \n",
      "pathStates: ['p1', 'p1', 'p1', 'p1', 'p1', 'p1', 'p1', 'p1', 'p1', 'p1', 'p0', 'p0', 'p0', 'p0', 'p0', 'p1', 'p1', 'p1', 'p1', 'p1', 'p1', 'p1', 'p1', 'p0', 'p0', 'p0', 'p0', 'p0', 'p0', 'p0']\n"
     ]
    }
   ],
   "source": [
    "states = tuple([ 'p' + str(i) for i in range(B.shape[0])])\n",
    "observations = tuple([ 'e' + str(i) for i in range(B.shape[1])])\n",
    "pi = [0.5,0.5]\n",
    "hiddenModal = HiddenMarkovChain(A,B,pi,states,observations)\n",
    "HMMObject = hiddenModal.generate_states('p0',no=30)\n",
    "x = [int(item[1:]) for item in HMMObject[1]]\n",
    "xSymbol = HMMObject[1]\n",
    "pathStates = HMMObject[0]\n",
    "print(\"states:\",states,\"\\nobservations:\",observations,\"\\nx:\", x,\"\\nxSymbol:\",xSymbol,\"\\npathStates:\",pathStates)"
   ]
  },
  {
   "cell_type": "code",
   "execution_count": 120,
   "metadata": {},
   "outputs": [
    {
     "name": "stdout",
     "output_type": "stream",
     "text": [
      "x: ['e1', 'e2', 'e5', 'e4', 'e5', 'e0', 'e5', 'e5', 'e4', 'e5', 'e4', 'e5', 'e2', 'e2', 'e3', 'e3', 'e5', 'e0', 'e5', 'e5', 'e4', 'e5', 'e4', 'e2', 'e4', 'e1', 'e2', 'e3', 'e2', 'e5']\n",
      "path: ['p1', 'p1', 'p1', 'p1', 'p1', 'p1', 'p1', 'p1', 'p1', 'p1', 'p1', 'p1', 'p1', 'p1', 'p1', 'p1', 'p1', 'p1', 'p1', 'p1', 'p1', 'p1', 'p0', 'p0', 'p0', 'p0', 'p0', 'p0', 'p0', 'p0']\n"
     ]
    }
   ],
   "source": [
    "path = viterbi(x, pi, A, B)"
   ]
  },
  {
   "cell_type": "code",
   "execution_count": 123,
   "metadata": {},
   "outputs": [
    {
     "name": "stdout",
     "output_type": "stream",
     "text": [
      "x: ['e1', 'e2', 'e5', 'e4', 'e5', 'e0', 'e5', 'e5', 'e4', 'e5', 'e4', 'e5', 'e2', 'e2', 'e3', 'e3', 'e5', 'e0', 'e5', 'e5', 'e4', 'e5', 'e4', 'e2', 'e4', 'e1', 'e2', 'e3', 'e2', 'e5']\n",
      "Viterbi path: ['p1', 'p1', 'p1', 'p1', 'p1', 'p1', 'p1', 'p1', 'p1', 'p1', 'p1', 'p1', 'p1', 'p1', 'p1', 'p1', 'p1', 'p1', 'p1', 'p1', 'p1', 'p1', 'p0', 'p0', 'p0', 'p0', 'p0', 'p0', 'p0', 'p0']\n",
      "Real path: ['p1', 'p1', 'p1', 'p1', 'p1', 'p1', 'p1', 'p1', 'p1', 'p1', 'p0', 'p0', 'p0', 'p0', 'p0', 'p1', 'p1', 'p1', 'p1', 'p1', 'p1', 'p1', 'p1', 'p0', 'p0', 'p0', 'p0', 'p0', 'p0', 'p0']\n"
     ]
    }
   ],
   "source": [
    "print(\"x:\", list(map(lambda y: observations[y], x)))\n",
    "print(\"Viterbi path:\",  list(map(lambda s: states[s], path)))\n",
    "print(\"Real path:\",  pathStates)"
   ]
  },
  {
   "cell_type": "code",
   "execution_count": 126,
   "metadata": {},
   "outputs": [
    {
     "data": {
      "text/html": [
       "<h2>&#10004 Plot posterior probability P(f air). Compare with the regions of the simulated\n",
       "path where loaded dice was used.\n",
       "<h2>"
      ],
      "text/plain": [
       "<IPython.core.display.HTML object>"
      ]
     },
     "metadata": {},
     "output_type": "display_data"
    }
   ],
   "source": [
    "%%html\n",
    "<h2>&#10004 Plot posterior probability P(f air). Compare with the regions of the simulated\n",
    "path where loaded dice was used.\n",
    "<h2>\n"
   ]
  },
  {
   "cell_type": "code",
   "execution_count": 127,
   "metadata": {},
   "outputs": [
    {
     "name": "stdout",
     "output_type": "stream",
     "text": [
      "forwardRes: [[8.33333333e-02 5.00000000e-02]\n",
      " [1.36111111e-02 5.33333333e-03]\n",
      " [2.19953704e-03 3.08055556e-03]\n",
      " [3.73931327e-04 2.99245370e-04]\n",
      " [6.16995049e-05 1.53356983e-04]\n",
      " [1.10470631e-05 1.44191235e-05]\n",
      " [1.86927769e-06 7.04095874e-06]\n",
      " [3.54643624e-07 3.26189532e-06]\n",
      " [8.33343681e-08 2.97117015e-07]\n",
      " [1.56705834e-08 1.37869375e-07]\n",
      " [3.63008717e-09 1.25649496e-08]\n",
      " [6.79471715e-10 5.83573168e-09]\n",
      " [1.56214119e-10 5.32010568e-10]\n",
      " [2.91673235e-11 4.94430923e-11]\n",
      " [5.03018533e-12 4.74155154e-12]\n",
      " [8.35958940e-13 4.77041492e-13]\n",
      " [1.36335511e-13 2.56466618e-13]\n",
      " [2.37236778e-14 2.44453508e-14]\n",
      " [3.95996024e-15 1.21865917e-14]\n",
      " [7.28548635e-16 5.68196429e-15]\n",
      " [1.62703236e-16 5.18662273e-16]\n",
      " [3.00835314e-17 2.41533185e-16]\n",
      " [6.77600234e-18 2.20388219e-17]\n",
      " [1.25652389e-18 2.05125400e-18]\n",
      " [2.16043399e-19 1.97178099e-19]\n",
      " [3.58500223e-20 1.99064629e-20]\n",
      " [5.84214072e-21 2.15008188e-21]\n",
      " [9.42922962e-22 2.51928776e-22]\n",
      " [1.51395542e-22 3.21028195e-23]\n",
      " [2.42384843e-23 2.20160459e-23]]\n",
      "P: 4.625453021712333e-23\n"
     ]
    }
   ],
   "source": [
    "forwardMatrix = forward(x, pi, A, B)\n",
    "print(\"forwardRes:\",forwardMatrix)\n",
    "P = likelihood(forwardMatrix)\n",
    "print(\"P:\",P)"
   ]
  },
  {
   "cell_type": "code",
   "execution_count": 128,
   "metadata": {},
   "outputs": [
    {
     "name": "stdout",
     "output_type": "stream",
     "text": [
      "backwardMatrix [[2.27767058e-22 6.50636764e-22]\n",
      " [1.21735422e-21 7.00386141e-21]\n",
      " [5.26182864e-21 1.53692539e-20]\n",
      " [2.80036453e-20 1.65583628e-19]\n",
      " [1.19464231e-19 3.63539016e-19]\n",
      " [6.30641343e-19 3.92253697e-18]\n",
      " [2.62200254e-18 8.61963762e-18]\n",
      " [1.36152029e-17 1.86504835e-17]\n",
      " [7.99140593e-17 1.92428695e-16]\n",
      " [4.39773308e-16 4.11331421e-16]\n",
      " [2.64867816e-15 4.07985316e-15]\n",
      " [1.53869484e-14 8.49645339e-15]\n",
      " [9.47536297e-14 7.68580692e-14]\n",
      " [5.74837858e-13 7.47527091e-13]\n",
      " [3.38807801e-12 7.67843472e-12]\n",
      " [1.88142245e-11 8.18318257e-11]\n",
      " [9.06438407e-11 1.78491322e-10]\n",
      " [5.12858051e-10 1.88826320e-09]\n",
      " [2.59171119e-09 4.10015114e-09]\n",
      " [1.50178766e-08 8.55522933e-09]\n",
      " [9.23881939e-08 7.79491789e-08]\n",
      " [5.59425286e-07 1.52500942e-07]\n",
      " [3.50017207e-06 1.04627490e-06]\n",
      " [2.18671138e-05 7.57581118e-06]\n",
      " [1.36246672e-04 5.89448146e-05]\n",
      " [8.44763040e-04 4.98504784e-04]\n",
      " [5.19078704e-03 4.57768519e-03]\n",
      " [3.13611111e-02 4.50555556e-02]\n",
      " [1.83333333e-01 4.66666667e-01]\n",
      " [1.00000000e+00 1.00000000e+00]]\n"
     ]
    }
   ],
   "source": [
    "backwardMatrix=backward(x, A, B)\n",
    "print(\"backwardMatrix\",backwardMatrix.T)"
   ]
  },
  {
   "cell_type": "code",
   "execution_count": 129,
   "metadata": {},
   "outputs": [
    {
     "name": "stdout",
     "output_type": "stream",
     "text": [
      "posteriorMatrix: [[0.4103509  0.70332221]\n",
      " [0.35822531 0.80757339]\n",
      " [0.25021521 1.02359359]\n",
      " [0.22638734 1.07124932]\n",
      " [0.15935485 1.2053143 ]\n",
      " [0.15061735 1.22278931]\n",
      " [0.10596261 1.31209878]\n",
      " [0.10439075 1.31524252]\n",
      " [0.14397698 1.23607005]\n",
      " [0.1489909  1.2260422 ]\n",
      " [0.20787007 1.10828386]\n",
      " [0.22603183 1.07196034]\n",
      " [0.32000876 0.88400649]\n",
      " [0.36248302 0.79905797]\n",
      " [0.36845386 0.78711628]\n",
      " [0.34002981 0.84396439]\n",
      " [0.26717328 0.98967746]\n",
      " [0.26304189 0.99794022]\n",
      " [0.22188255 1.0802589 ]\n",
      " [0.23654447 1.05093506]\n",
      " [0.32498132 0.87406137]\n",
      " [0.36384519 0.79633364]\n",
      " [0.51275354 0.49851693]\n",
      " [0.5940294  0.33596521]\n",
      " [0.63637429 0.25127542]\n",
      " [0.65474179 0.21454043]\n",
      " [0.65561812 0.21278776]\n",
      " [0.63931277 0.24539847]\n",
      " [0.6000677  0.32388862]\n",
      " [0.52402401 0.47597599]]\n"
     ]
    }
   ],
   "source": [
    "posteriorMatrix = posterior(forwardMatrix, backwardMatrix)\n",
    "print(\"posteriorMatrix:\",posteriorMatrix)"
   ]
  },
  {
   "cell_type": "code",
   "execution_count": null,
   "metadata": {},
   "outputs": [],
   "source": []
  }
 ],
 "metadata": {
  "kernelspec": {
   "display_name": "Python 3",
   "language": "python",
   "name": "python3"
  },
  "language_info": {
   "codemirror_mode": {
    "name": "ipython",
    "version": 3
   },
   "file_extension": ".py",
   "mimetype": "text/x-python",
   "name": "python",
   "nbconvert_exporter": "python",
   "pygments_lexer": "ipython3",
   "version": "3.6.4"
  }
 },
 "nbformat": 4,
 "nbformat_minor": 2
}
