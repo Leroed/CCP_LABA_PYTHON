{
 "cells": [
  {
   "cell_type": "markdown",
   "metadata": {},
   "source": [
    "# I. Generate all lattice walks, 2D square lattice"
   ]
  },
  {
   "cell_type": "code",
   "execution_count": 2,
   "metadata": {},
   "outputs": [],
   "source": [
    "# This I showed in class:\n",
    "\n",
    "\n",
    "steps = [(1, 0), (-1, 0), (0, 1), (0, -1)]\n",
    "\n",
    "def generate_walks(path, L):\n",
    "    \"\"\"Generate all random walks on the 2D square lattice.\"\"\"\n",
    "    if L == 0:\n",
    "        print(path)\n",
    "    else:\n",
    "        for dx, dy in steps:\n",
    "            x, y = path[-1]\n",
    "            pp = path.copy()\n",
    "            pp.append((x + dx, y + dy))\n",
    "            generate_walks(pp, L - 1)"
   ]
  },
  {
   "cell_type": "code",
   "execution_count": 9,
   "metadata": {},
   "outputs": [
    {
     "name": "stdout",
     "output_type": "stream",
     "text": [
      "[(0, 0), (1, 0), (2, 0)]\n",
      "[(0, 0), (1, 0), (0, 0)]\n",
      "[(0, 0), (1, 0), (1, 1)]\n",
      "[(0, 0), (1, 0), (1, -1)]\n",
      "[(0, 0), (-1, 0), (0, 0)]\n",
      "[(0, 0), (-1, 0), (-2, 0)]\n",
      "[(0, 0), (-1, 0), (-1, 1)]\n",
      "[(0, 0), (-1, 0), (-1, -1)]\n",
      "[(0, 0), (0, 1), (1, 1)]\n",
      "[(0, 0), (0, 1), (-1, 1)]\n",
      "[(0, 0), (0, 1), (0, 2)]\n",
      "[(0, 0), (0, 1), (0, 0)]\n",
      "[(0, 0), (0, -1), (1, -1)]\n",
      "[(0, 0), (0, -1), (-1, -1)]\n",
      "[(0, 0), (0, -1), (0, 0)]\n",
      "[(0, 0), (0, -1), (0, -2)]\n"
     ]
    }
   ],
   "source": [
    "generate_walks([(0, 0)], 2)"
   ]
  },
  {
   "cell_type": "markdown",
   "metadata": {},
   "source": [
    "## Store the walks\n",
    "\n",
    "Printing walks is nice, but not very useful. Better construct a list of all walks, for postprocessing. To this end, add a `cache` parameter, which stores all generated walks."
   ]
  },
  {
   "cell_type": "code",
   "execution_count": 4,
   "metadata": {},
   "outputs": [],
   "source": [
    "steps = [(1, 0), (-1, 0), (0, 1), (0, -1)]\n",
    "\n",
    "def generate_walks2(path, L, cache):\n",
    "    if L == 0:\n",
    "        cache.append(path)\n",
    "    else:\n",
    "        for dx, dy in steps:\n",
    "            x, y = path[-1]\n",
    "            xy_new = (x + dx, y + dy)\n",
    "            pp = path.copy()\n",
    "            pp.append(xy_new)\n",
    "            generate_walks2(pp, L - 1, cache)"
   ]
  },
  {
   "cell_type": "code",
   "execution_count": 100,
   "metadata": {},
   "outputs": [
    {
     "data": {
      "text/plain": [
       "256"
      ]
     },
     "execution_count": 100,
     "metadata": {},
     "output_type": "execute_result"
    }
   ],
   "source": [
    "cache = []\n",
    "generate_walks2([(0, 0)], 4, cache)\n",
    "len(cache)"
   ]
  },
  {
   "cell_type": "code",
   "execution_count": 6,
   "metadata": {},
   "outputs": [
    {
     "data": {
      "text/plain": [
       "[[(0, 0), (1, 0), (2, 0)],\n",
       " [(0, 0), (1, 0), (0, 0)],\n",
       " [(0, 0), (1, 0), (1, 1)],\n",
       " [(0, 0), (1, 0), (1, -1)],\n",
       " [(0, 0), (-1, 0), (0, 0)],\n",
       " [(0, 0), (-1, 0), (-2, 0)],\n",
       " [(0, 0), (-1, 0), (-1, 1)],\n",
       " [(0, 0), (-1, 0), (-1, -1)],\n",
       " [(0, 0), (0, 1), (1, 1)],\n",
       " [(0, 0), (0, 1), (-1, 1)],\n",
       " [(0, 0), (0, 1), (0, 2)],\n",
       " [(0, 0), (0, 1), (0, 0)],\n",
       " [(0, 0), (0, -1), (1, -1)],\n",
       " [(0, 0), (0, -1), (-1, -1)],\n",
       " [(0, 0), (0, -1), (0, 0)],\n",
       " [(0, 0), (0, -1), (0, -2)]]"
      ]
     },
     "execution_count": 6,
     "metadata": {},
     "output_type": "execute_result"
    }
   ],
   "source": [
    "cache"
   ]
  },
  {
   "cell_type": "markdown",
   "metadata": {},
   "source": [
    "## Task 0\n",
    "\n",
    "Compute the average end-to-end distance of random walks of a given length. What is the scaling of the end-to-end distance with the length of the walk? What is the scaling of the mean *square* end-to-end distance with the length?"
   ]
  },
  {
   "cell_type": "code",
   "execution_count": 109,
   "metadata": {},
   "outputs": [],
   "source": [
    "import numpy as np \n",
    "steps = [(1, 0), (-1, 0), (0, 1), (0, -1)]\n",
    "\n",
    "def avgDist(way):\n",
    "    return {\"start\": way[0],\\\n",
    "            \"end\": way[-1],\\\n",
    "            \"dist\": (abs(way[-1][0]-way[0][0]),abs(way[-1][1]-way[0][1]))}\n",
    "\n",
    "def SquareAvgDist(way):\n",
    "    return {\"start\": way[0],\\\n",
    "            \"end\": way[-1],\\\n",
    "            \"dist\":np.linalg.norm(np.array( way[-1])-np.array( way[0]))}\n",
    "\n",
    "def Distance(path, L, key , func):\n",
    "    cache = []\n",
    "    func(path, L, cache)  \n",
    "    distesOfWays = [avgDist(way) if key == \"avgDist\" else SquareAvgDist(way) for way in cache]\n",
    "    distPoint1 = np.mean([item[\"start\"] for item in distesOfWays], axis=0)\n",
    "    distPoint2 = np.mean([item[\"end\"] for item in distesOfWays], axis=0)\n",
    "    distPoint3 = np.mean([item[\"dist\"] for item in distesOfWays], axis=0)\n",
    "    return {\"distesOfWays\":distesOfWays, \"avgStart\": distPoint1, \"avgEnd\": distPoint2, \"avgDist\": distPoint3 }\n"
   ]
  },
  {
   "cell_type": "code",
   "execution_count": 110,
   "metadata": {},
   "outputs": [
    {
     "name": "stdout",
     "output_type": "stream",
     "text": [
      "What is the scaling of the end-to-end distance with the length of the walk? \n",
      "distesOfWays [{'start': (0, 0), 'end': (2, 0), 'dist': (2, 0)}, {'start': (0, 0), 'end': (0, 0), 'dist': (0, 0)}, {'start': (0, 0), 'end': (1, 1), 'dist': (1, 1)}, {'start': (0, 0), 'end': (1, -1), 'dist': (1, 1)}, {'start': (0, 0), 'end': (0, 0), 'dist': (0, 0)}, {'start': (0, 0), 'end': (-2, 0), 'dist': (2, 0)}, {'start': (0, 0), 'end': (-1, 1), 'dist': (1, 1)}, {'start': (0, 0), 'end': (-1, -1), 'dist': (1, 1)}, {'start': (0, 0), 'end': (1, 1), 'dist': (1, 1)}, {'start': (0, 0), 'end': (-1, 1), 'dist': (1, 1)}, {'start': (0, 0), 'end': (0, 2), 'dist': (0, 2)}, {'start': (0, 0), 'end': (0, 0), 'dist': (0, 0)}, {'start': (0, 0), 'end': (1, -1), 'dist': (1, 1)}, {'start': (0, 0), 'end': (-1, -1), 'dist': (1, 1)}, {'start': (0, 0), 'end': (0, 0), 'dist': (0, 0)}, {'start': (0, 0), 'end': (0, -2), 'dist': (0, 2)}] \n",
      "avgStart [0. 0.] \n",
      "avgEnd [0. 0.] \n",
      "avgDist [0.75 0.75]\n",
      "What is the scaling of the mean square end-to-end distance with the length? \n",
      "distesOfWays [{'start': (0, 0), 'end': (2, 0), 'dist': 2.0}, {'start': (0, 0), 'end': (0, 0), 'dist': 0.0}, {'start': (0, 0), 'end': (1, 1), 'dist': 1.4142135623730951}, {'start': (0, 0), 'end': (1, -1), 'dist': 1.4142135623730951}, {'start': (0, 0), 'end': (0, 0), 'dist': 0.0}, {'start': (0, 0), 'end': (-2, 0), 'dist': 2.0}, {'start': (0, 0), 'end': (-1, 1), 'dist': 1.4142135623730951}, {'start': (0, 0), 'end': (-1, -1), 'dist': 1.4142135623730951}, {'start': (0, 0), 'end': (1, 1), 'dist': 1.4142135623730951}, {'start': (0, 0), 'end': (-1, 1), 'dist': 1.4142135623730951}, {'start': (0, 0), 'end': (0, 2), 'dist': 2.0}, {'start': (0, 0), 'end': (0, 0), 'dist': 0.0}, {'start': (0, 0), 'end': (1, -1), 'dist': 1.4142135623730951}, {'start': (0, 0), 'end': (-1, -1), 'dist': 1.4142135623730951}, {'start': (0, 0), 'end': (0, 0), 'dist': 0.0}, {'start': (0, 0), 'end': (0, -2), 'dist': 2.0}] \n",
      "avgStart [0. 0.] \n",
      "avgEnd [0. 0.] \n",
      "SquareAvgDist 1.2071067811865475\n"
     ]
    }
   ],
   "source": [
    "avgDistanceValue = Distance([(0, 0)], 2, \"avgDist\", generate_walks2)\n",
    "print(\"What is the scaling of the end-to-end distance with the length of the walk?\" ,\\\n",
    "      \"\\ndistesOfWays\",avgDistanceValue[\"distesOfWays\"],\\\n",
    "      \"\\navgStart\", avgDistanceValue[\"avgStart\"],\\\n",
    "     \"\\navgEnd\",avgDistanceValue[\"avgEnd\"],\n",
    "     \"\\navgDist\",avgDistanceValue[\"avgDist\"])\n",
    "\n",
    "avgDistanceValue = Distance([(0, 0)], 2, \"SquareAvgDist\", generate_walks2)\n",
    "print(\"What is the scaling of the mean square end-to-end distance with the length?\" ,\\\n",
    "      \"\\ndistesOfWays\",avgDistanceValue[\"distesOfWays\"],\\\n",
    "      \"\\navgStart\", avgDistanceValue[\"avgStart\"],\\\n",
    "     \"\\navgEnd\",avgDistanceValue[\"avgEnd\"],\n",
    "     \"\\nSquareAvgDist\",avgDistanceValue[\"avgDist\"])\n"
   ]
  },
  {
   "cell_type": "markdown",
   "metadata": {},
   "source": [
    "# I. Generate all SAWs on a 2D square lattice\n",
    "\n",
    "A self-avoiding walk is a random walk where a lattice site can only be visited once."
   ]
  },
  {
   "cell_type": "code",
   "execution_count": 106,
   "metadata": {},
   "outputs": [],
   "source": [
    "steps = [(1, 0), (-1, 0), (0, 1), (0, -1)]\n",
    "\n",
    "def generate_SAWs(path, L, cache):\n",
    "    if L == 0:\n",
    "        cache.append(path)\n",
    "    else:\n",
    "        for dx, dy in steps:\n",
    "            x, y = path[-1]\n",
    "            xy_new = (x + dx, y + dy)\n",
    "            if xy_new in path:\n",
    "                continue\n",
    "            pp = path.copy()\n",
    "            pp.append(xy_new)\n",
    "            generate_SAWs(pp, L - 1, cache)"
   ]
  },
  {
   "cell_type": "markdown",
   "metadata": {},
   "source": [
    "## Task 1\n",
    "\n",
    "How many walks of a given length are there? What is the mean end-to-end distance of walks of a given length? What is mean *square* of the end-to-end distance?"
   ]
  },
  {
   "cell_type": "code",
   "execution_count": 112,
   "metadata": {},
   "outputs": [
    {
     "name": "stdout",
     "output_type": "stream",
     "text": [
      "[[(0, 0), (1, 0), (2, 0)], [(0, 0), (1, 0), (1, 1)], [(0, 0), (1, 0), (1, -1)], [(0, 0), (-1, 0), (-2, 0)], [(0, 0), (-1, 0), (-1, 1)], [(0, 0), (-1, 0), (-1, -1)], [(0, 0), (0, 1), (1, 1)], [(0, 0), (0, 1), (-1, 1)], [(0, 0), (0, 1), (0, 2)], [(0, 0), (0, -1), (1, -1)], [(0, 0), (0, -1), (-1, -1)], [(0, 0), (0, -1), (0, -2)]]\n",
      "12\n"
     ]
    }
   ],
   "source": [
    "cache = []\n",
    "generate_SAWs([(0, 0)], 2, cache)\n",
    "print(cache)\n",
    "print(len(cache))"
   ]
  },
  {
   "cell_type": "code",
   "execution_count": 113,
   "metadata": {},
   "outputs": [
    {
     "name": "stdout",
     "output_type": "stream",
     "text": [
      "What is the scaling of the end-to-end distance with the length of the walk? \n",
      "distesOfWays [{'start': (0, 0), 'end': (2, 0), 'dist': (2, 0)}, {'start': (0, 0), 'end': (1, 1), 'dist': (1, 1)}, {'start': (0, 0), 'end': (1, -1), 'dist': (1, 1)}, {'start': (0, 0), 'end': (-2, 0), 'dist': (2, 0)}, {'start': (0, 0), 'end': (-1, 1), 'dist': (1, 1)}, {'start': (0, 0), 'end': (-1, -1), 'dist': (1, 1)}, {'start': (0, 0), 'end': (1, 1), 'dist': (1, 1)}, {'start': (0, 0), 'end': (-1, 1), 'dist': (1, 1)}, {'start': (0, 0), 'end': (0, 2), 'dist': (0, 2)}, {'start': (0, 0), 'end': (1, -1), 'dist': (1, 1)}, {'start': (0, 0), 'end': (-1, -1), 'dist': (1, 1)}, {'start': (0, 0), 'end': (0, -2), 'dist': (0, 2)}] \n",
      "avgStart [0. 0.] \n",
      "avgEnd [0. 0.] \n",
      "avgDist [1. 1.]\n",
      "What is the scaling of the mean square end-to-end distance with the length? \n",
      "distesOfWays [{'start': (0, 0), 'end': (2, 0), 'dist': 2.0}, {'start': (0, 0), 'end': (1, 1), 'dist': 1.4142135623730951}, {'start': (0, 0), 'end': (1, -1), 'dist': 1.4142135623730951}, {'start': (0, 0), 'end': (-2, 0), 'dist': 2.0}, {'start': (0, 0), 'end': (-1, 1), 'dist': 1.4142135623730951}, {'start': (0, 0), 'end': (-1, -1), 'dist': 1.4142135623730951}, {'start': (0, 0), 'end': (1, 1), 'dist': 1.4142135623730951}, {'start': (0, 0), 'end': (-1, 1), 'dist': 1.4142135623730951}, {'start': (0, 0), 'end': (0, 2), 'dist': 2.0}, {'start': (0, 0), 'end': (1, -1), 'dist': 1.4142135623730951}, {'start': (0, 0), 'end': (-1, -1), 'dist': 1.4142135623730951}, {'start': (0, 0), 'end': (0, -2), 'dist': 2.0}] \n",
      "avgStart [0. 0.] \n",
      "avgEnd [0. 0.] \n",
      "SquareAvgDist 1.6094757082487303\n"
     ]
    }
   ],
   "source": [
    "avgDistanceValue = Distance([(0, 0)], 2, \"avgDist\", generate_SAWs)\n",
    "print(\"What is the scaling of the end-to-end distance with the length of the walk?\" ,\\\n",
    "      \"\\ndistesOfWays\",avgDistanceValue[\"distesOfWays\"],\\\n",
    "      \"\\navgStart\", avgDistanceValue[\"avgStart\"],\\\n",
    "     \"\\navgEnd\",avgDistanceValue[\"avgEnd\"],\n",
    "     \"\\navgDist\",avgDistanceValue[\"avgDist\"])\n",
    "\n",
    "avgDistanceValue = Distance([(0, 0)], 2, \"SquareAvgDist\", generate_SAWs)\n",
    "print(\"What is the scaling of the mean square end-to-end distance with the length?\" ,\\\n",
    "      \"\\ndistesOfWays\",avgDistanceValue[\"distesOfWays\"],\\\n",
    "      \"\\navgStart\", avgDistanceValue[\"avgStart\"],\\\n",
    "     \"\\navgEnd\",avgDistanceValue[\"avgEnd\"],\n",
    "     \"\\nSquareAvgDist\",avgDistanceValue[\"avgDist\"])\n"
   ]
  },
  {
   "cell_type": "markdown",
   "metadata": {},
   "source": [
    "## Extra tasks (for fun, no credit, a possible basis of a course project)\n",
    "\n",
    "1. Triangular lattice\n",
    "2. Rewrite the recursive algorithm to use a queue"
   ]
  },
  {
   "cell_type": "code",
   "execution_count": null,
   "metadata": {
    "collapsed": true
   },
   "outputs": [],
   "source": []
  }
 ],
 "metadata": {
  "kernelspec": {
   "display_name": "Python 3",
   "language": "python",
   "name": "python3"
  },
  "language_info": {
   "codemirror_mode": {
    "name": "ipython",
    "version": 3
   },
   "file_extension": ".py",
   "mimetype": "text/x-python",
   "name": "python",
   "nbconvert_exporter": "python",
   "pygments_lexer": "ipython3",
   "version": "3.6.4"
  }
 },
 "nbformat": 4,
 "nbformat_minor": 2
}
