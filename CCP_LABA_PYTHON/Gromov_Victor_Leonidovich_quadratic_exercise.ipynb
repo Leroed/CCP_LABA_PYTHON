{
 "cells": [
  {
   "cell_type": "markdown",
   "metadata": {},
   "source": [
    "## Solve a quadratic equation, $x^2 + b x + c = 0$."
   ]
  },
  {
   "cell_type": "code",
   "execution_count": 59,
   "metadata": {},
   "outputs": [],
   "source": [
    "import cmath\n",
    "import numpy as np\n",
    "def solve_quad(b, c):\n",
    "    \"\"\"Solve a quadratic equation, x**2 + bx + c = 0.\n",
    "    \n",
    "    Parameters\n",
    "    ----------\n",
    "    b, c : float\n",
    "       Coefficients\n",
    "       \n",
    "    Returns\n",
    "    -------\n",
    "    x1, x2 : float or complex\n",
    "       Roots.\n",
    "    \"\"\"\n",
    "   \n",
    "    b = float(b)\n",
    "    c = float(c)\n",
    "    \n",
    "    D = (b**2) - (4*c)\n",
    "    \n",
    "    solution_1,solution_2 = (-b-cmath.sqrt(D))/2,(-b+cmath.sqrt(D))/2\n",
    "    \n",
    "    if np.isclose(solution_1 + solution_2,solution_1,rtol=1e-20) or np.isclose(solution_1 + solution_2,solution_2,rtol=1e-20):\n",
    "        solution_1, solution_2 = -b,-c/b\n",
    "        \n",
    "    print('The solution are {0} and {1}'.format(solution_1,solution_2))\n",
    "    return (solution_1,solution_2)"
   ]
  },
  {
   "cell_type": "markdown",
   "metadata": {},
   "source": [
    "Test the function"
   ]
  },
  {
   "cell_type": "code",
   "execution_count": 60,
   "metadata": {},
   "outputs": [],
   "source": [
    "from numpy import allclose\n"
   ]
  },
  {
   "cell_type": "code",
   "execution_count": 61,
   "metadata": {},
   "outputs": [],
   "source": [
    "variants = [{'b': 4.0, 'c': 3.0},\n",
    "            {'b': 2.0, 'c': 1.0},\n",
    "            {'b': 0.5, 'c': 4.0},\n",
    "            {'b': 1e10, 'c': 3.0},\n",
    "            {'b': -1e20, 'c': 6.0},\n",
    "            {'b': 1e14, 'c': 1e14},\n",
    "            {'b': -6, 'c': -4.0}]"
   ]
  },
  {
   "cell_type": "code",
   "execution_count": 58,
   "metadata": {},
   "outputs": [
    {
     "name": "stdout",
     "output_type": "stream",
     "text": [
      "The solution are (-3+0j) and (-1+0j)\n",
      "True\n",
      "The solution are (-1+0j) and (-1+0j)\n",
      "True\n",
      "The solution are (-0.25-1.984313483298443j) and (-0.25+1.984313483298443j)\n",
      "True\n",
      "The solution are -10000000000.0 and -3e-10\n",
      "True\n",
      "The solution are 1e+20 and 6e-20\n",
      "True\n",
      "The solution are -100000000000000.0 and -1.0\n",
      "True\n",
      "The solution are (-0.6055512754639891+0j) and (6.60555127546399+0j)\n",
      "True\n"
     ]
    }
   ],
   "source": [
    "for var in variants:\n",
    "    x1, x2 = solve_quad(**var)\n",
    "    print(allclose(x1*x2, var['c']))"
   ]
  },
  {
   "cell_type": "code",
   "execution_count": null,
   "metadata": {},
   "outputs": [],
   "source": []
  },
  {
   "cell_type": "code",
   "execution_count": null,
   "metadata": {},
   "outputs": [],
   "source": []
  }
 ],
 "metadata": {
  "kernelspec": {
   "display_name": "Python 3",
   "language": "python",
   "name": "python3"
  },
  "language_info": {
   "codemirror_mode": {
    "name": "ipython",
    "version": 3
   },
   "file_extension": ".py",
   "mimetype": "text/x-python",
   "name": "python",
   "nbconvert_exporter": "python",
   "pygments_lexer": "ipython3",
   "version": "3.6.4"
  }
 },
 "nbformat": 4,
 "nbformat_minor": 2
}
