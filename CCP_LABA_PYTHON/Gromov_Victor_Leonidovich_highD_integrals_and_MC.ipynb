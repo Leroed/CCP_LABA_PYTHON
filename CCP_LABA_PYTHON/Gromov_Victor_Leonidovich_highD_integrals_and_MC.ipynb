{
 "cells": [
  {
   "cell_type": "code",
   "execution_count": 7,
   "metadata": {},
   "outputs": [
    {
     "data": {
      "text/html": [
       "<h1><bold>Task 1</bold></h1>\n",
       "<p>Implement integration over a rectangular domain with a double Legendre quadrature.</p>"
      ],
      "text/plain": [
       "<IPython.core.display.HTML object>"
      ]
     },
     "metadata": {},
     "output_type": "display_data"
    }
   ],
   "source": [
    "%%html\n",
    "<h1><bold>Task 1</bold></h1>\n",
    "<p>Implement integration over a rectangular domain with a double Legendre quadrature.</p>"
   ]
  },
  {
   "cell_type": "code",
   "execution_count": 110,
   "metadata": {},
   "outputs": [],
   "source": [
    "from scipy.integrate import dblquad, tplquad, nquad\n",
    "import numpy as np\n",
    "\n",
    "import matplotlib.pyplot as plt\n",
    "plt.style.use('ggplot')\n",
    "\n",
    "%matplotlib notebook"
   ]
  },
  {
   "cell_type": "code",
   "execution_count": 111,
   "metadata": {},
   "outputs": [],
   "source": [
    "func = lambda x, y: x**2 + 3*y**2"
   ]
  },
  {
   "cell_type": "code",
   "execution_count": 118,
   "metadata": {},
   "outputs": [
    {
     "name": "stdout",
     "output_type": "stream",
     "text": [
      "Our Function: 107.99999325000954\n",
      "Exact:108.0 \n",
      "Mistake 6.749990461685229e-06\n"
     ]
    }
   ],
   "source": [
    "#integration over a rectangular domain with a double Legendre quadrature.\n",
    "def integrateRectDoubleLegend(func,aStart,bStart,aFinal,bFinal,n,m):\n",
    "    Result = 0 \n",
    "    dx = (bStart - aStart) / n\n",
    "    dy = (bFinal - aFinal) / m\n",
    "    for i in range(0, n):\n",
    "        x = aStart +  (i + 0.5)*dx \n",
    "        for j in range(0, m):      \n",
    "            y = aFinal + (j + 0.5)*dy \n",
    "            Result += f(x, y) * dx * dy\n",
    "    return(Result)\n",
    "\n",
    "def getMistake(OurFunc,exactFunc,aStart,bStart,aFinal,bFinal,n,m):\n",
    "    exact = dblquad(func,aStart,bStart, lambda x: aFinal, lambda x: bFinal)[0]\n",
    "    ourFunc = OurFunc(func,aStart,bStart,aFinal,bFinal,n,m)\n",
    "    print('Our Function: '+ str(ourFunc) + '\\nExact:' +  str(exact) , \"\\nMistake\", str(abs(exact-ourFunc)) )\n",
    "\n",
    "getMistake(integrateRectDoubleLegend,dblquad,0,3,0,3,2000,2000)"
   ]
  },
  {
   "cell_type": "code",
   "execution_count": 114,
   "metadata": {},
   "outputs": [
    {
     "data": {
      "text/html": [
       "<h1><bold>Task 2</bold></h1>\n",
       "<p>Implement integration over a trangular domain with a mixed Legendre/Jacobi quadrature.</p>"
      ],
      "text/plain": [
       "<IPython.core.display.HTML object>"
      ]
     },
     "metadata": {},
     "output_type": "display_data"
    }
   ],
   "source": [
    "%%html\n",
    "<h1><bold>Task 2</bold></h1>\n",
    "<p>Implement integration over a trangular domain with a mixed Legendre/Jacobi quadrature.</p>"
   ]
  },
  {
   "cell_type": "code",
   "execution_count": 146,
   "metadata": {},
   "outputs": [],
   "source": [
    "#Jacobi quadrature\n",
    "def JacobiFunc( U, V, state1, state2, state3 ):\n",
    "    Result = {\"dxdV\":( U * state3[0] - U * state2[0] ),\\\n",
    "              \"dxdU\": ( (1 - V) * state2[0] + V * state3[0] - state1[0] ),\\\n",
    "              \"dydV\": ( U * state3[1] - U * state2[1] ),\\\n",
    "              \"dydU\": ( (1 - V) * state2[1] + V * state3[1] - state1[1] )\\\n",
    "            }\n",
    "    \n",
    "\n",
    "    return np.abs( Result[\"dxdV\"] * Result[\"dxdV\"] - Result[\"dxdV\"] * Result[\"dydU\"] )"
   ]
  },
  {
   "cell_type": "code",
   "execution_count": 154,
   "metadata": {},
   "outputs": [],
   "source": [
    "#trangular quadrature.\n",
    "def trangularQuad( func, state1, state2, state3 ):\n",
    "    \n",
    "    gFunc = lambda U, V, state1, state2, state3: (1-U)*state1 + U*( (1-V)*state2 + V*state3 )\n",
    "    hFunc = lambda U, V: func( gFunc( U, V, state1[0], state2[0], state3[0] ),\\\n",
    "                                   gFunc( U, V, state1[1], state2[1], state3[1] ) ) * JacobiFunc( U, V, state1, state2, state3 )\n",
    "    \n",
    "    \n",
    "    resultIntegral, mistake = dblquad( hFunc, 0, 1, lambda x: 0, lambda x: 1)\n",
    "    return {\"resultIntegral\":resultIntegral , \"mistake\": mistake }\n"
   ]
  },
  {
   "cell_type": "code",
   "execution_count": 156,
   "metadata": {},
   "outputs": [
    {
     "name": "stdout",
     "output_type": "stream",
     "text": [
      "Result: {'resultIntegral': 5.25, 'mistake': 8.315824270086555e-14}\n"
     ]
    }
   ],
   "source": [
    "print ('Result:',trangularQuad( lambda x, y: 1., (0.,0.), (3.,0.), (0.,3.) ))"
   ]
  },
  {
   "cell_type": "code",
   "execution_count": 153,
   "metadata": {},
   "outputs": [],
   "source": []
  },
  {
   "cell_type": "code",
   "execution_count": null,
   "metadata": {},
   "outputs": [],
   "source": []
  },
  {
   "cell_type": "code",
   "execution_count": null,
   "metadata": {},
   "outputs": [],
   "source": []
  }
 ],
 "metadata": {
  "kernelspec": {
   "display_name": "Python 3",
   "language": "python",
   "name": "python3"
  },
  "language_info": {
   "codemirror_mode": {
    "name": "ipython",
    "version": 3
   },
   "file_extension": ".py",
   "mimetype": "text/x-python",
   "name": "python",
   "nbconvert_exporter": "python",
   "pygments_lexer": "ipython3",
   "version": "3.6.4"
  }
 },
 "nbformat": 4,
 "nbformat_minor": 2
}
